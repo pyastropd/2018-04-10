{
 "cells": [
  {
   "cell_type": "markdown",
   "metadata": {},
   "source": [
    "## Python program to find solution of the 2D Poisson's equation\n",
    "## with periodic boundary conditions"
   ]
  },
  {
   "cell_type": "code",
   "execution_count": 2,
   "metadata": {},
   "outputs": [],
   "source": [
    "from __future__ import division\n",
    "import os\n",
    "import numpy as np\n",
    "import matplotlib\n",
    "import matplotlib.pyplot as plt\n",
    "import matplotlib.cm as cm\n",
    "from mpl_toolkits.mplot3d import Axes3D\n",
    "from scipy.fftpack import ifftn\n",
    "from scipy.fftpack import fft, fft2, fftn, ifft2, rfft, dct, dst"
   ]
  },
  {
   "cell_type": "markdown",
   "metadata": {},
   "source": [
    "## Fourier coefficients"
   ]
  },
  {
   "cell_type": "markdown",
   "metadata": {},
   "source": [
    "$\\laplace \\phi=\\rho$\n",
    "\n",
    "The discrete form of the equation is written in the following way\n",
    "\n",
    "$\\frac{1}{h^2}[\\phi_{j+1,k}+\\phi_{j-1,k}+\\phi_{j,k+1}+\\phi_{j,k-1}-4\\phi_{j,k}]=-\\rho_{j,k}$\n",
    "\n",
    "The Fourier transform of the two functiona are\n",
    "\n",
    "$\\tilde{\\phi}_{m,n}=\\frac{1}{N} \\sum_{j=0}^{N-1} \\sum_{k=0}^{N-1} W^{mj+nk} \\phi_{j,k} $\n",
    "\n",
    "$\\tilde{\\rho}_{m,n}=\\frac{1}{N} \\sum_{j=0}^{N-1} \\sum_{k=0}^{N-1} W^{mj+nk} \\rho_{j,k} $\n",
    "\n",
    "The inverse transforms are \n",
    "\n",
    "\n",
    "$\\phi_{j,k}=\\frac{1}{N} \\sum_{j=0}^{N-1} \\sum_{k=0}^{N-1} W^{-mj-nk} \\tilde{\\phi}_{m,n} $\n",
    "\n",
    "$\\rho_{j,k}=\\frac{1}{N} \\sum_{j=0}^{N-1} \\sum_{k=0}^{N-1} W^{-mj-nk} \\tilde{\\rho}_{m,n} $\n",
    "\n",
    "Plugging these expressions into the discretized equation and equating coefficients\n",
    "of $W^{-mj-nk}$ gives\n",
    "\n",
    "$\\frac{1}{h^2}[W^m + W^{-m}+W^{n}+W^{-n}-4]\\tilde{\\phi}_{m,n}=\\tilde{\\rho}_{m,n}$\n",
    "\n",
    "which is easily solved for\n",
    "\n",
    "$\\tilde{\\phi}_{m,n}=\\frac{h^2 \\tilde{\\rho}_{m,n}}{4-W^m - W^{-m}-W^{n}-W^{-n}}$\n",
    "\n",
    "Then, backtranforming one obtains the solution $\\phi_{j,k}$\n"
   ]
  },
  {
   "cell_type": "code",
   "execution_count": 3,
   "metadata": {},
   "outputs": [],
   "source": [
    "#W=Exp[2pi i  /N]\n",
    "#W^m=Cos[2 pi m/M] + i Sin [2 pi m/M]\n",
    "\n",
    "class fourier_coeff():\n",
    "\n",
    "    def __init__(self, m, N):\n",
    "\n",
    "        self.cosine=np.cos(2* np.pi * m /N )\n",
    "        self.sine=np.sin (2* np.pi * m /N )\n",
    "        \n",
    "        self.complex_value=self.cosine + self.sine*1j\n",
    "\n",
    "\n"
   ]
  },
  {
   "cell_type": "markdown",
   "metadata": {},
   "source": [
    "##  Routine for creating a 2D gaussian\n"
   ]
  },
  {
   "cell_type": "code",
   "execution_count": 4,
   "metadata": {},
   "outputs": [],
   "source": [
    "def gaussian(x0,y0, low_bound, high_bound, sigma, N):\n",
    "\n",
    "    x, y = np.linspace(low_bound, high_bound,npx), np.linspace(low_bound, high_bound,npx)\n",
    "\n",
    "    xy, yy=np.meshgrid(x, y)\n",
    "\n",
    "    gx = np.exp(-(x-x0)**2/(2*sigma**2))\n",
    "    gy = np.exp(-(y-y0)**2/(2*sigma**2))\n",
    "\n",
    "    gauss = np.outer(gy, gx)\n",
    "    gauss /= np.sum(gauss)  # normalize, if you want that\n",
    "\n",
    "    gauss_new=np.zeros([N,N])\n",
    "\n",
    "    max_val=-1\n",
    "\n",
    "    for ii in range(len(x)):\n",
    "\n",
    "        for jj in range(len(y)):\n",
    "\n",
    "            gauss_new[ii][jj]=np.exp(-(x[ii]-x0)**2/(2*sigma**2))* np.exp(-(y[jj]-y0)**2/(2*4*sigma**2))\n",
    "\n",
    "            if (gauss_new[ii][jj] > max_val):\n",
    "                \n",
    "                ii_max=ii\n",
    "                jj_max=jj\n",
    "                max_val=gauss_new[ii][jj]\n",
    "\n",
    "    print('Center', x0,y0)            \n",
    "    print('Maximum at', x[ii_max], y[jj_max])        \n",
    "    return(gauss_new)\n",
    "\n"
   ]
  },
  {
   "cell_type": "markdown",
   "metadata": {},
   "source": [
    "### Potential terms"
   ]
  },
  {
   "cell_type": "code",
   "execution_count": 5,
   "metadata": {},
   "outputs": [],
   "source": [
    "########################################################################\n",
    "def potential_terms(fft_source, h):\n",
    "\n",
    "    npx=fft_source.shape[0]\n",
    "\n",
    "    phi_fft=np.zeros((npx, npx), dtype=complex)\n",
    "\n",
    "    for m in range (npx):\n",
    "        for n in range (npx):\n",
    "\n",
    "            Wm=fourier_coeff(m, npx)\n",
    "            Wn=fourier_coeff(n, npx)\n",
    "            \n",
    "            denom=(4-Wm.complex_value -1 /Wm.complex_value- Wn.complex_value - 1/Wn.complex_value)\n",
    "\n",
    "            if abs(denom) !=0:\n",
    "                phi_fft[n][m]=h*h* fft_source[n][m]/denom\n",
    "\n",
    "\n",
    "    return(phi_fft)\n",
    "\n",
    "\n",
    "#####################################################################################\n"
   ]
  },
  {
   "cell_type": "markdown",
   "metadata": {},
   "source": [
    "### Define the number of pixel of the box and the boundary limits of the coordinates"
   ]
  },
  {
   "cell_type": "code",
   "execution_count": 6,
   "metadata": {},
   "outputs": [],
   "source": [
    "npx=128\n",
    "xmin, xmax=0, 40\n",
    "ymin, ymax=0, 40\n",
    "\n",
    "xe =np.linspace(xmin,xmax,npx) \n",
    "ye =np.linspace(ymin, ymax, npx)\n",
    "x, y = np.meshgrid(xe,ye)\n",
    "\n",
    "step=(xmax-xmin)/npx\n"
   ]
  },
  {
   "cell_type": "markdown",
   "metadata": {},
   "source": [
    "### Here define the surface density: as an example we can use some 2D gaussians"
   ]
  },
  {
   "cell_type": "code",
   "execution_count": 7,
   "metadata": {},
   "outputs": [
    {
     "name": "stdout",
     "output_type": "stream",
     "text": [
      "Center 20 20\n",
      "Maximum at 19.84251968503937 19.84251968503937\n",
      "Center 25 25\n",
      "Maximum at 24.881889763779526 24.881889763779526\n",
      "Center 21 21\n",
      "Maximum at 21.102362204724407 21.102362204724407\n"
     ]
    }
   ],
   "source": [
    "#x0=round((npx+1)/2)*step\n",
    "#y0=round((npx+1)/2)*step\n",
    "\n",
    "x0,y0=20,20\n",
    "\n",
    "sigma=1\n",
    "\n",
    "gauss1=gaussian(x0,y0, xmin,xmax, sigma, npx)\n",
    "gauss2=gaussian(x0+5,y0+5, xmin,xmax, sigma, npx)\n",
    "gauss3=gaussian(x0+1,y0+1, xmin,xmax, sigma/2, npx)\n",
    "\n",
    "gauss=gauss1+gauss2+0*gauss3"
   ]
  },
  {
   "cell_type": "markdown",
   "metadata": {},
   "source": [
    "### Perform the FFT with implicit periodic boundary conditions"
   ]
  },
  {
   "cell_type": "code",
   "execution_count": 8,
   "metadata": {},
   "outputs": [],
   "source": [
    "fft_gauss=fft2(gauss)\n",
    "\n",
    "res=potential_terms(fft_gauss, step)\n",
    "\n",
    "U=ifft2(res)\n",
    "\n",
    "#multiple_img=replicate_image(U)\n",
    "\n"
   ]
  },
  {
   "cell_type": "code",
   "execution_count": 9,
   "metadata": {},
   "outputs": [
    {
     "name": "stdout",
     "output_type": "stream",
     "text": [
      "Dimensions (128, 128)\n",
      "Dimensions (128, 128)\n"
     ]
    },
    {
     "data": {
      "image/png": "[encoded data removed]",
      "text/plain": [
       "<matplotlib.figure.Figure at 0x314593278>"
      ]
     },
     "metadata": {},
     "output_type": "display_data"
    }
   ],
   "source": [
    "#######################################################################\n",
    "#2D gradient of the potential\n",
    "\n",
    "X,Y=np.meshgrid(xe,ye)\n",
    "grad_U=np.gradient(U.real,xe,ye)\n",
    "\n",
    "\n",
    "####################################################################################\n",
    "#Arrows field which represent the gravitational (or electrical force)\n",
    "\n",
    "skip = (slice(None, None, 8), slice(None, None, 8))\n",
    "#Q = plt.quiver(Y[skip], X[skip], grad_U[0][skip], grad_U[1][skip], units='width')\n",
    "\n",
    "####################################################################################\n",
    "#First panel, plot of data and best-fit model\n",
    "\n",
    "extent = xmin, xmax,ymin, ymax\n",
    "\n",
    "ax1 = plt.subplot2grid((1,2), (0, 0))\n",
    "plt.title('Force')\n",
    "#plt.imshow(gauss, extent=extent)\n",
    "#plt.contourf(xe, ye, gauss)\n",
    "Q = plt.quiver(Y[skip], X[skip], grad_U[0][skip], grad_U[1][skip], units='width')\n",
    "\n",
    "ax2 = plt.subplot2grid((1, 2), (0, 1))\n",
    "plt.title('Potential')\n",
    "plt.contourf(xe, ye, U.real, 15, norm=plt.Normalize(vmax=abs(U).max(), vmin=-abs(U).max()))\n",
    "\n",
    "\n",
    "print('Dimensions', grad_U[0].shape)\n",
    "print('Dimensions', grad_U[1].shape)\n",
    "\n",
    "plt.savefig('potential.pdf')\n",
    "plt.show()\n",
    "#os.sys.exit(1)\n",
    "\n",
    "######################################################################\n",
    "#Call the function which takes as input the source term N x N\n",
    "#matrix and returns a totally simmetrix 2N * 2N matrix\n",
    "\n",
    "#block_image=matrix_mirror(gauss)\n",
    "\n",
    "########################################################################\n",
    "\n",
    "#ax2.imshow(np.abs(np.fft.fftshift(fft_z)))\n",
    "\n",
    "\n"
   ]
  },
  {
   "cell_type": "code",
   "execution_count": null,
   "metadata": {},
   "outputs": [],
   "source": []
  }
 ],
 "metadata": {
  "kernelspec": {
   "display_name": "Python 3",
   "language": "python",
   "name": "python3"
  },
  "language_info": {
   "codemirror_mode": {
    "name": "ipython",
    "version": 3
   },
   "file_extension": ".py",
   "mimetype": "text/x-python",
   "name": "python",
   "nbconvert_exporter": "python",
   "pygments_lexer": "ipython3",
   "version": "3.6.4"
  }
 },
 "nbformat": 4,
 "nbformat_minor": 2
}
